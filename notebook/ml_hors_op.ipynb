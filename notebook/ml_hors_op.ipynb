{
 "cells": [
  {
   "cell_type": "code",
   "execution_count": 6,
   "metadata": {
    "application/vnd.databricks.v1+cell": {
     "cellMetadata": {
      "byteLimit": 2048000,
      "rowLimit": 10000
     },
     "inputWidgets": {},
     "nuid": "b2d590f1-e438-4ff5-84c0-d6744b9c2dcd",
     "showTitle": false,
     "title": ""
    }
   },
   "outputs": [],
   "source": [
    "import pickle\n",
    "import pandas as pd\n",
    "import numpy as np\n",
    "from google.cloud import bigquery\n",
    "from cachetools import cached, TTLCache\n",
    "from sklearn.metrics import r2_score, mean_squared_error, mean_absolute_error\n",
    "from sklearn.model_selection import train_test_split\n",
    "from sklearn.compose import ColumnTransformer\n",
    "from sklearn.preprocessing import StandardScaler, OneHotEncoder"
   ]
  },
  {
   "cell_type": "code",
   "execution_count": 2,
   "metadata": {},
   "outputs": [],
   "source": [
    "# Connexion à BigQuery\n",
    "client = bigquery.Client(project='cdiscountwagon')\n",
    "\n",
    "# Cache les résultats de chargement de données pour 10 minutes\n",
    "cache = TTLCache(maxsize=100, ttl=600)\n",
    "\n",
    "@cached(cache)\n",
    "def load_data():\n",
    "    query = \"\"\"\n",
    "    SELECT *\n",
    "    FROM `cdiscountwagon.Datasets.Merges_Sales_avec_categ`\n",
    "    \"\"\"\n",
    "    df = client.query(query).to_dataframe()\n",
    "    return df\n",
    "\n",
    "# Chargement des données\n",
    "df = load_data()"
   ]
  },
  {
   "cell_type": "code",
   "execution_count": 3,
   "metadata": {
    "application/vnd.databricks.v1+cell": {
     "cellMetadata": {
      "byteLimit": 2048000,
      "rowLimit": 10000
     },
     "inputWidgets": {},
     "nuid": "7307bac0-169f-418b-b7f2-daaec736855b",
     "showTitle": false,
     "title": ""
    }
   },
   "outputs": [],
   "source": [
    "df['order_date'] = pd.to_datetime(df['order_date'])\n",
    "df['day_of_week_number'] = df['order_date'].dt.dayofweek\n",
    "df['week_in_month'] = (df['order_date'].dt.day - 1) // 7 + 1\n",
    "df['avg_price'] = df['avg_price'].round(2)\n",
    "avg_prix_mean = df['indice_avg_price'].mean()\n",
    "df['indice_avg_price'].fillna(avg_prix_mean, inplace=True)\n",
    "df['impression_gs'].fillna(0, inplace=True)\n",
    "df['acquisition_cost_gs'].fillna(0, inplace=True)\n"
   ]
  },
  {
   "cell_type": "code",
   "execution_count": 4,
   "metadata": {
    "application/vnd.databricks.v1+cell": {
     "cellMetadata": {
      "byteLimit": 2048000,
      "rowLimit": 10000
     },
     "inputWidgets": {},
     "nuid": "940227f7-9ca6-4caf-8e2b-39f7a14b84c9",
     "showTitle": false,
     "title": ""
    }
   },
   "outputs": [],
   "source": [
    "df_no_operation = df[df['operation_name'].isnull()]\n",
    "\n",
    "df_on_operation_1 = df[df['operation_name'].notnull()]"
   ]
  },
  {
   "cell_type": "code",
   "execution_count": 5,
   "metadata": {
    "application/vnd.databricks.v1+cell": {
     "cellMetadata": {
      "byteLimit": 2048000,
      "rowLimit": 10000
     },
     "inputWidgets": {},
     "nuid": "886223ce-5b58-405b-b9cf-44f142151d7c",
     "showTitle": false,
     "title": ""
    }
   },
   "outputs": [
    {
     "data": {
      "text/html": [
       "<div>\n",
       "<style scoped>\n",
       "    .dataframe tbody tr th:only-of-type {\n",
       "        vertical-align: middle;\n",
       "    }\n",
       "\n",
       "    .dataframe tbody tr th {\n",
       "        vertical-align: top;\n",
       "    }\n",
       "\n",
       "    .dataframe thead th {\n",
       "        text-align: right;\n",
       "    }\n",
       "</style>\n",
       "<table border=\"1\" class=\"dataframe\">\n",
       "  <thead>\n",
       "    <tr style=\"text-align: right;\">\n",
       "      <th></th>\n",
       "      <th>product_id_upper</th>\n",
       "      <th>product_id</th>\n",
       "      <th>order_date</th>\n",
       "      <th>on_operation</th>\n",
       "      <th>on_google_shopping</th>\n",
       "      <th>type</th>\n",
       "      <th>avg_price</th>\n",
       "      <th>indice_avg_price</th>\n",
       "      <th>nb_new_customers</th>\n",
       "      <th>total_customers</th>\n",
       "      <th>...</th>\n",
       "      <th>impression_gs</th>\n",
       "      <th>acquisition_cost_gs</th>\n",
       "      <th>tracking_day_front</th>\n",
       "      <th>on_front</th>\n",
       "      <th>click_on_front</th>\n",
       "      <th>category</th>\n",
       "      <th>product_id_1</th>\n",
       "      <th>Category_1</th>\n",
       "      <th>day_of_week_number</th>\n",
       "      <th>week_in_month</th>\n",
       "    </tr>\n",
       "  </thead>\n",
       "  <tbody>\n",
       "    <tr>\n",
       "      <th>0</th>\n",
       "      <td>603344402</td>\n",
       "      <td>603344402</td>\n",
       "      <td>2024-03-13</td>\n",
       "      <td>0</td>\n",
       "      <td>0</td>\n",
       "      <td>1P</td>\n",
       "      <td>181.91</td>\n",
       "      <td>97.072236</td>\n",
       "      <td>0</td>\n",
       "      <td>0</td>\n",
       "      <td>...</td>\n",
       "      <td>0.0</td>\n",
       "      <td>0.0</td>\n",
       "      <td>NaT</td>\n",
       "      <td>0</td>\n",
       "      <td>NaN</td>\n",
       "      <td>bricolage</td>\n",
       "      <td>603344402</td>\n",
       "      <td>BRICOLAGE</td>\n",
       "      <td>2</td>\n",
       "      <td>2</td>\n",
       "    </tr>\n",
       "    <tr>\n",
       "      <th>1</th>\n",
       "      <td>603344402</td>\n",
       "      <td>603344402</td>\n",
       "      <td>2024-03-14</td>\n",
       "      <td>0</td>\n",
       "      <td>0</td>\n",
       "      <td>1P</td>\n",
       "      <td>181.91</td>\n",
       "      <td>97.072236</td>\n",
       "      <td>0</td>\n",
       "      <td>0</td>\n",
       "      <td>...</td>\n",
       "      <td>0.0</td>\n",
       "      <td>0.0</td>\n",
       "      <td>NaT</td>\n",
       "      <td>0</td>\n",
       "      <td>NaN</td>\n",
       "      <td>bricolage</td>\n",
       "      <td>603344402</td>\n",
       "      <td>BRICOLAGE</td>\n",
       "      <td>3</td>\n",
       "      <td>2</td>\n",
       "    </tr>\n",
       "    <tr>\n",
       "      <th>2</th>\n",
       "      <td>603344402</td>\n",
       "      <td>603344402</td>\n",
       "      <td>2024-03-15</td>\n",
       "      <td>0</td>\n",
       "      <td>0</td>\n",
       "      <td>1P</td>\n",
       "      <td>181.91</td>\n",
       "      <td>97.072236</td>\n",
       "      <td>0</td>\n",
       "      <td>0</td>\n",
       "      <td>...</td>\n",
       "      <td>0.0</td>\n",
       "      <td>0.0</td>\n",
       "      <td>NaT</td>\n",
       "      <td>0</td>\n",
       "      <td>NaN</td>\n",
       "      <td>bricolage</td>\n",
       "      <td>603344402</td>\n",
       "      <td>BRICOLAGE</td>\n",
       "      <td>4</td>\n",
       "      <td>3</td>\n",
       "    </tr>\n",
       "    <tr>\n",
       "      <th>3</th>\n",
       "      <td>603344402</td>\n",
       "      <td>603344402</td>\n",
       "      <td>2024-03-16</td>\n",
       "      <td>0</td>\n",
       "      <td>0</td>\n",
       "      <td>1P</td>\n",
       "      <td>99.90</td>\n",
       "      <td>97.072236</td>\n",
       "      <td>0</td>\n",
       "      <td>0</td>\n",
       "      <td>...</td>\n",
       "      <td>0.0</td>\n",
       "      <td>0.0</td>\n",
       "      <td>NaT</td>\n",
       "      <td>0</td>\n",
       "      <td>NaN</td>\n",
       "      <td>bricolage</td>\n",
       "      <td>603344402</td>\n",
       "      <td>BRICOLAGE</td>\n",
       "      <td>5</td>\n",
       "      <td>3</td>\n",
       "    </tr>\n",
       "    <tr>\n",
       "      <th>4</th>\n",
       "      <td>603344402</td>\n",
       "      <td>603344402</td>\n",
       "      <td>2024-03-17</td>\n",
       "      <td>0</td>\n",
       "      <td>0</td>\n",
       "      <td>1P</td>\n",
       "      <td>99.90</td>\n",
       "      <td>97.072236</td>\n",
       "      <td>0</td>\n",
       "      <td>0</td>\n",
       "      <td>...</td>\n",
       "      <td>0.0</td>\n",
       "      <td>0.0</td>\n",
       "      <td>NaT</td>\n",
       "      <td>0</td>\n",
       "      <td>NaN</td>\n",
       "      <td>bricolage</td>\n",
       "      <td>603344402</td>\n",
       "      <td>BRICOLAGE</td>\n",
       "      <td>6</td>\n",
       "      <td>3</td>\n",
       "    </tr>\n",
       "  </tbody>\n",
       "</table>\n",
       "<p>5 rows × 24 columns</p>\n",
       "</div>"
      ],
      "text/plain": [
       "  product_id_upper product_id order_date  on_operation  on_google_shopping  \\\n",
       "0        603344402  603344402 2024-03-13             0                   0   \n",
       "1        603344402  603344402 2024-03-14             0                   0   \n",
       "2        603344402  603344402 2024-03-15             0                   0   \n",
       "3        603344402  603344402 2024-03-16             0                   0   \n",
       "4        603344402  603344402 2024-03-17             0                   0   \n",
       "\n",
       "  type  avg_price  indice_avg_price  nb_new_customers  total_customers  ...  \\\n",
       "0   1P     181.91         97.072236                 0                0  ...   \n",
       "1   1P     181.91         97.072236                 0                0  ...   \n",
       "2   1P     181.91         97.072236                 0                0  ...   \n",
       "3   1P      99.90         97.072236                 0                0  ...   \n",
       "4   1P      99.90         97.072236                 0                0  ...   \n",
       "\n",
       "  impression_gs acquisition_cost_gs tracking_day_front on_front  \\\n",
       "0           0.0                 0.0                NaT        0   \n",
       "1           0.0                 0.0                NaT        0   \n",
       "2           0.0                 0.0                NaT        0   \n",
       "3           0.0                 0.0                NaT        0   \n",
       "4           0.0                 0.0                NaT        0   \n",
       "\n",
       "   click_on_front   category product_id_1  Category_1  day_of_week_number  \\\n",
       "0             NaN  bricolage    603344402   BRICOLAGE                   2   \n",
       "1             NaN  bricolage    603344402   BRICOLAGE                   3   \n",
       "2             NaN  bricolage    603344402   BRICOLAGE                   4   \n",
       "3             NaN  bricolage    603344402   BRICOLAGE                   5   \n",
       "4             NaN  bricolage    603344402   BRICOLAGE                   6   \n",
       "\n",
       "  week_in_month  \n",
       "0             2  \n",
       "1             2  \n",
       "2             3  \n",
       "3             3  \n",
       "4             3  \n",
       "\n",
       "[5 rows x 24 columns]"
      ]
     },
     "execution_count": 5,
     "metadata": {},
     "output_type": "execute_result"
    }
   ],
   "source": [
    "#df_on_operation_1 =  df_on_operation_1.loc[df_on_operation_1['Category_1'] == 'BAGAGES']\n",
    "df.head()"
   ]
  },
  {
   "cell_type": "code",
   "execution_count": 7,
   "metadata": {
    "application/vnd.databricks.v1+cell": {
     "cellMetadata": {
      "byteLimit": 2048000,
      "rowLimit": 10000
     },
     "inputWidgets": {},
     "nuid": "1a25e8f7-185f-4c38-a907-8ac7fb21c207",
     "showTitle": false,
     "title": ""
    }
   },
   "outputs": [],
   "source": [
    "# Séparation des caractéristiques (X) et de la variable cible (y)\n",
    "\n",
    "X = df_no_operation.drop(columns=[\"on_operation\",\"product_id\",\"type\",\"order_date\",\"nb_new_customers\",\"total_customers\",\"operation_name\",\"startdate_op\",\"enddate_op\",\"display_date_gs\",\"tracking_day_front\",\"click_on_front\",\"category\",\"on_google_shopping\",\"acquisition_cost_gs\",\"product_id_1\",\"product_id_upper\"])\n",
    "\n",
    "y = df_no_operation[\"nb_new_customers\"]\n",
    "\n",
    "\n",
    "#Données numériques et non numérique train\n",
    "\n",
    "numerical_columns = X.select_dtypes(include=np.number).columns\n",
    "\n",
    "cat_columns = X.select_dtypes(exclude=np.number).columns\n",
    "\n",
    "X=pd.get_dummies(X,columns=cat_columns)\n",
    "\n",
    "\n",
    "# Division des données en ensembles d'entraînement et de test\n",
    "X_train, X_test, y_train, y_test = train_test_split(X, y, test_size=0.2, random_state=0)"
   ]
  },
  {
   "cell_type": "code",
   "execution_count": 8,
   "metadata": {
    "application/vnd.databricks.v1+cell": {
     "cellMetadata": {
      "byteLimit": 2048000,
      "rowLimit": 10000
     },
     "collapsed": true,
     "inputWidgets": {},
     "nuid": "b919660f-9d6e-4cc7-942a-24b535360bd5",
     "showTitle": false,
     "title": ""
    }
   },
   "outputs": [],
   "source": [
    "scaler = StandardScaler()\n",
    "\n",
    "# Scale données numériques\n",
    "\n",
    "#X_train[numerical_columns]= scaler.fit_transform(X_train[numerical_columns])\n",
    "#X_test[numerical_columns]= scaler.transform(X_test[numerical_columns])\n"
   ]
  },
  {
   "cell_type": "code",
   "execution_count": 9,
   "metadata": {
    "application/vnd.databricks.v1+cell": {
     "cellMetadata": {
      "byteLimit": 2048000,
      "rowLimit": 10000
     },
     "inputWidgets": {},
     "nuid": "cc657e25-cada-4666-9187-6f4703247729",
     "showTitle": false,
     "title": ""
    }
   },
   "outputs": [
    {
     "data": {
      "text/html": [
       "<style>#sk-container-id-1 {color: black;background-color: white;}#sk-container-id-1 pre{padding: 0;}#sk-container-id-1 div.sk-toggleable {background-color: white;}#sk-container-id-1 label.sk-toggleable__label {cursor: pointer;display: block;width: 100%;margin-bottom: 0;padding: 0.3em;box-sizing: border-box;text-align: center;}#sk-container-id-1 label.sk-toggleable__label-arrow:before {content: \"▸\";float: left;margin-right: 0.25em;color: #696969;}#sk-container-id-1 label.sk-toggleable__label-arrow:hover:before {color: black;}#sk-container-id-1 div.sk-estimator:hover label.sk-toggleable__label-arrow:before {color: black;}#sk-container-id-1 div.sk-toggleable__content {max-height: 0;max-width: 0;overflow: hidden;text-align: left;background-color: #f0f8ff;}#sk-container-id-1 div.sk-toggleable__content pre {margin: 0.2em;color: black;border-radius: 0.25em;background-color: #f0f8ff;}#sk-container-id-1 input.sk-toggleable__control:checked~div.sk-toggleable__content {max-height: 200px;max-width: 100%;overflow: auto;}#sk-container-id-1 input.sk-toggleable__control:checked~label.sk-toggleable__label-arrow:before {content: \"▾\";}#sk-container-id-1 div.sk-estimator input.sk-toggleable__control:checked~label.sk-toggleable__label {background-color: #d4ebff;}#sk-container-id-1 div.sk-label input.sk-toggleable__control:checked~label.sk-toggleable__label {background-color: #d4ebff;}#sk-container-id-1 input.sk-hidden--visually {border: 0;clip: rect(1px 1px 1px 1px);clip: rect(1px, 1px, 1px, 1px);height: 1px;margin: -1px;overflow: hidden;padding: 0;position: absolute;width: 1px;}#sk-container-id-1 div.sk-estimator {font-family: monospace;background-color: #f0f8ff;border: 1px dotted black;border-radius: 0.25em;box-sizing: border-box;margin-bottom: 0.5em;}#sk-container-id-1 div.sk-estimator:hover {background-color: #d4ebff;}#sk-container-id-1 div.sk-parallel-item::after {content: \"\";width: 100%;border-bottom: 1px solid gray;flex-grow: 1;}#sk-container-id-1 div.sk-label:hover label.sk-toggleable__label {background-color: #d4ebff;}#sk-container-id-1 div.sk-serial::before {content: \"\";position: absolute;border-left: 1px solid gray;box-sizing: border-box;top: 0;bottom: 0;left: 50%;z-index: 0;}#sk-container-id-1 div.sk-serial {display: flex;flex-direction: column;align-items: center;background-color: white;padding-right: 0.2em;padding-left: 0.2em;position: relative;}#sk-container-id-1 div.sk-item {position: relative;z-index: 1;}#sk-container-id-1 div.sk-parallel {display: flex;align-items: stretch;justify-content: center;background-color: white;position: relative;}#sk-container-id-1 div.sk-item::before, #sk-container-id-1 div.sk-parallel-item::before {content: \"\";position: absolute;border-left: 1px solid gray;box-sizing: border-box;top: 0;bottom: 0;left: 50%;z-index: -1;}#sk-container-id-1 div.sk-parallel-item {display: flex;flex-direction: column;z-index: 1;position: relative;background-color: white;}#sk-container-id-1 div.sk-parallel-item:first-child::after {align-self: flex-end;width: 50%;}#sk-container-id-1 div.sk-parallel-item:last-child::after {align-self: flex-start;width: 50%;}#sk-container-id-1 div.sk-parallel-item:only-child::after {width: 0;}#sk-container-id-1 div.sk-dashed-wrapped {border: 1px dashed gray;margin: 0 0.4em 0.5em 0.4em;box-sizing: border-box;padding-bottom: 0.4em;background-color: white;}#sk-container-id-1 div.sk-label label {font-family: monospace;font-weight: bold;display: inline-block;line-height: 1.2em;}#sk-container-id-1 div.sk-label-container {text-align: center;}#sk-container-id-1 div.sk-container {/* jupyter's `normalize.less` sets `[hidden] { display: none; }` but bootstrap.min.css set `[hidden] { display: none !important; }` so we also need the `!important` here to be able to override the default hidden behavior on the sphinx rendered scikit-learn.org. See: https://github.com/scikit-learn/scikit-learn/issues/21755 */display: inline-block !important;position: relative;}#sk-container-id-1 div.sk-text-repr-fallback {display: none;}</style><div id=\"sk-container-id-1\" class=\"sk-top-container\"><div class=\"sk-text-repr-fallback\"><pre>RandomForestRegressor(random_state=42)</pre><b>In a Jupyter environment, please rerun this cell to show the HTML representation or trust the notebook. <br />On GitHub, the HTML representation is unable to render, please try loading this page with nbviewer.org.</b></div><div class=\"sk-container\" hidden><div class=\"sk-item\"><div class=\"sk-estimator sk-toggleable\"><input class=\"sk-toggleable__control sk-hidden--visually\" id=\"sk-estimator-id-1\" type=\"checkbox\" checked><label for=\"sk-estimator-id-1\" class=\"sk-toggleable__label sk-toggleable__label-arrow\">RandomForestRegressor</label><div class=\"sk-toggleable__content\"><pre>RandomForestRegressor(random_state=42)</pre></div></div></div></div></div>"
      ],
      "text/plain": [
       "RandomForestRegressor(random_state=42)"
      ]
     },
     "execution_count": 9,
     "metadata": {},
     "output_type": "execute_result"
    }
   ],
   "source": [
    "from sklearn.ensemble import RandomForestRegressor\n",
    "from sklearn.model_selection import cross_val_score\n",
    "\n",
    "# Créer et ajuster un modèle de forêt aléatoire\n",
    "rf_model_hors_op = RandomForestRegressor(n_estimators=100, random_state=42)\n",
    "rf_model_hors_op.fit(X_train, y_train)"
   ]
  },
  {
   "cell_type": "code",
   "execution_count": 12,
   "metadata": {
    "application/vnd.databricks.v1+cell": {
     "cellMetadata": {
      "byteLimit": 2048000,
      "rowLimit": 10000
     },
     "inputWidgets": {},
     "nuid": "812dccee-b1f7-4321-a3cc-9d09f2241f7d",
     "showTitle": false,
     "title": ""
    }
   },
   "outputs": [
    {
     "name": "stdout",
     "output_type": "stream",
     "text": [
      "RMSE (Random Forest): 1.6453969686558243\n",
      "R^2 (Random Forest): 0.3191461662481808\n"
     ]
    }
   ],
   "source": [
    "# Prédiction et évaluation\n",
    "y_pred_rf = rf_model_hors_op.predict(X_test)\n",
    "print(f'RMSE (Random Forest): {mean_squared_error(y_test, y_pred_rf, squared=False)}')\n",
    "print(f'R^2 (Random Forest): {r2_score(y_test, y_pred_rf)}')"
   ]
  },
  {
   "cell_type": "code",
   "execution_count": 10,
   "metadata": {
    "application/vnd.databricks.v1+cell": {
     "cellMetadata": {
      "byteLimit": 2048000,
      "rowLimit": 10000
     },
     "inputWidgets": {},
     "nuid": "804fe9e2-e3e6-4656-a80a-967d30a84ee1",
     "showTitle": false,
     "title": ""
    }
   },
   "outputs": [
    {
     "name": "stdout",
     "output_type": "stream",
     "text": [
      "0.07670331753483162\n"
     ]
    }
   ],
   "source": [
    "\n",
    "from sklearn.linear_model import LinearRegression \n",
    "lin_reg_hors_op = LinearRegression()\n",
    "\n",
    "\n",
    "# Ajustement du modèle aux données d'entraînement\n",
    "lin_reg_hors_op.fit(X_train, y_train)\n",
    "\n",
    "# Évaluation du modèle sur les données de test\n",
    "lin_reg_hors_op.score(X_test,y_test)\n",
    "y_pred = lin_reg_hors_op.predict(X_test)\n",
    "print(lin_reg_hors_op.score(X_test,y_test))"
   ]
  },
  {
   "cell_type": "code",
   "execution_count": 11,
   "metadata": {
    "application/vnd.databricks.v1+cell": {
     "cellMetadata": {
      "byteLimit": 2048000,
      "rowLimit": 10000
     },
     "inputWidgets": {},
     "nuid": "10701d80-c074-444f-8ed6-f1110d15949d",
     "showTitle": false,
     "title": ""
    }
   },
   "outputs": [
    {
     "name": "stdout",
     "output_type": "stream",
     "text": [
      "Accuracy: 0.9637766584503269\n"
     ]
    }
   ],
   "source": [
    "from sklearn.ensemble import GradientBoostingClassifier\n",
    "from sklearn.metrics import accuracy_score\n",
    "model_GBC_Hors_OP = GradientBoostingClassifier()\n",
    "\n",
    "# Entraîner le modèle\n",
    "model_GBC_Hors_OP.fit(X_train, y_train)\n",
    "\n",
    "# Faire des prédictions\n",
    "predictions = model_GBC_Hors_OP.predict(X_test)\n",
    "\n",
    "# Évaluer les performances du modèle\n",
    "accuracy = accuracy_score(y_test, predictions)\n",
    "print(\"Accuracy:\", accuracy)"
   ]
  },
  {
   "cell_type": "code",
   "execution_count": 14,
   "metadata": {},
   "outputs": [
    {
     "data": {
      "text/html": [
       "<div>\n",
       "<style scoped>\n",
       "    .dataframe tbody tr th:only-of-type {\n",
       "        vertical-align: middle;\n",
       "    }\n",
       "\n",
       "    .dataframe tbody tr th {\n",
       "        vertical-align: top;\n",
       "    }\n",
       "\n",
       "    .dataframe thead th {\n",
       "        text-align: right;\n",
       "    }\n",
       "</style>\n",
       "<table border=\"1\" class=\"dataframe\">\n",
       "  <thead>\n",
       "    <tr style=\"text-align: right;\">\n",
       "      <th></th>\n",
       "      <th>avg_price</th>\n",
       "      <th>indice_avg_price</th>\n",
       "      <th>impression_gs</th>\n",
       "      <th>on_front</th>\n",
       "      <th>day_of_week_number</th>\n",
       "      <th>week_in_month</th>\n",
       "      <th>Category_1_ANIMALERIE</th>\n",
       "      <th>Category_1_AU-QUOTIDIEN</th>\n",
       "      <th>Category_1_AUTO</th>\n",
       "      <th>Category_1_BAGAGES</th>\n",
       "      <th>...</th>\n",
       "      <th>Category_1_JEUX-PC-VIDEO-CONSOLE</th>\n",
       "      <th>Category_1_JUNIORS</th>\n",
       "      <th>Category_1_MAISON</th>\n",
       "      <th>Category_1_MEUBLE</th>\n",
       "      <th>Category_1_PRÊT-À-PORTER</th>\n",
       "      <th>Category_1_PUÉRICULTURE</th>\n",
       "      <th>Category_1_SPORT</th>\n",
       "      <th>Category_1_TELEPHONIE</th>\n",
       "      <th>Category_1_TV SON</th>\n",
       "      <th>Category_1_VIN-CHAMPAGNE</th>\n",
       "    </tr>\n",
       "  </thead>\n",
       "  <tbody>\n",
       "    <tr>\n",
       "      <th>0</th>\n",
       "      <td>199</td>\n",
       "      <td>183</td>\n",
       "      <td>87778</td>\n",
       "      <td>0</td>\n",
       "      <td>4</td>\n",
       "      <td>4</td>\n",
       "      <td>0</td>\n",
       "      <td>0</td>\n",
       "      <td>0</td>\n",
       "      <td>0</td>\n",
       "      <td>...</td>\n",
       "      <td>0</td>\n",
       "      <td>0</td>\n",
       "      <td>0</td>\n",
       "      <td>0</td>\n",
       "      <td>1</td>\n",
       "      <td>0</td>\n",
       "      <td>0</td>\n",
       "      <td>0</td>\n",
       "      <td>0</td>\n",
       "      <td>0</td>\n",
       "    </tr>\n",
       "  </tbody>\n",
       "</table>\n",
       "<p>1 rows × 26 columns</p>\n",
       "</div>"
      ],
      "text/plain": [
       "   avg_price  indice_avg_price  impression_gs  on_front  day_of_week_number  \\\n",
       "0        199               183          87778         0                   4   \n",
       "\n",
       "   week_in_month  Category_1_ANIMALERIE  Category_1_AU-QUOTIDIEN  \\\n",
       "0              4                      0                        0   \n",
       "\n",
       "   Category_1_AUTO  Category_1_BAGAGES  ...  Category_1_JEUX-PC-VIDEO-CONSOLE  \\\n",
       "0                0                   0  ...                                 0   \n",
       "\n",
       "   Category_1_JUNIORS  Category_1_MAISON  Category_1_MEUBLE  \\\n",
       "0                   0                  0                  0   \n",
       "\n",
       "   Category_1_PRÊT-À-PORTER  Category_1_PUÉRICULTURE  Category_1_SPORT  \\\n",
       "0                         1                        0                 0   \n",
       "\n",
       "   Category_1_TELEPHONIE  Category_1_TV SON  Category_1_VIN-CHAMPAGNE  \n",
       "0                      0                  0                         0  \n",
       "\n",
       "[1 rows x 26 columns]"
      ]
     },
     "metadata": {},
     "output_type": "display_data"
    }
   ],
   "source": [
    "data = {\n",
    "    'avg_price': [199], \n",
    "    'indice_avg_price': [183], \n",
    "    'impression_gs': [87778], \n",
    "    'on_front': [0], \n",
    "    'day_of_week_number': [4], \n",
    "    'week_in_month': [4], \n",
    "    'Category_1_ANIMALERIE': [0], \n",
    "    'Category_1_AU-QUOTIDIEN': [0], \n",
    "    'Category_1_AUTO': [0], \n",
    "    'Category_1_BAGAGES': [0], \n",
    "    'Category_1_BRICOLAGE': [0], \n",
    "    'Category_1_CORNER': [0], \n",
    "    'Category_1_ELECTROMENAGER': [0], \n",
    "    'Category_1_HIGH-TECH': [0], \n",
    "    'Category_1_INFORMATIQUE': [0], \n",
    "    'Category_1_JARDIN': [0], \n",
    "    'Category_1_JEUX-PC-VIDEO-CONSOLE': [0], \n",
    "    'Category_1_JUNIORS': [0], \n",
    "    'Category_1_MAISON': [0], \n",
    "    'Category_1_MEUBLE': [0], \n",
    "    'Category_1_PRÊT-À-PORTER': [1], \n",
    "    'Category_1_PUÉRICULTURE': [0], \n",
    "    'Category_1_SPORT': [0], \n",
    "    'Category_1_TELEPHONIE': [0], \n",
    "    'Category_1_TV SON': [0], \n",
    "    'Category_1_VIN-CHAMPAGNE': [0]\n",
    "}\n",
    "\n",
    "# Créer le DataFrame à partir du dictionnaire\n",
    "df = pd.DataFrame(data)\n",
    "\n",
    "display(df)"
   ]
  },
  {
   "cell_type": "code",
   "execution_count": 15,
   "metadata": {
    "application/vnd.databricks.v1+cell": {
     "cellMetadata": {
      "byteLimit": 2048000,
      "rowLimit": 10000
     },
     "inputWidgets": {},
     "nuid": "875f472c-e7b8-4be0-a349-8d27fb72e345",
     "showTitle": false,
     "title": ""
    }
   },
   "outputs": [
    {
     "name": "stdout",
     "output_type": "stream",
     "text": [
      "[4.16666667]\n",
      "[2.536749]\n",
      "[0.]\n"
     ]
    }
   ],
   "source": [
    "print(rf_model_hors_op.predict(df))\n",
    "print(lin_reg_hors_op.predict(df))\n",
    "print(model_GBC_Hors_OP.predict(df))"
   ]
  },
  {
   "cell_type": "code",
   "execution_count": 16,
   "metadata": {},
   "outputs": [],
   "source": [
    "with open('/Users/enayargrh/Library/Mobile Documents/com~apple~CloudDocs/labo_coding/01_projects/07_cdiscount_streamlit_ml/data/fitted_model_rf_hors_op.pickle','wb') as modelFile:\n",
    "     pickle.dump(rf_model_hors_op,modelFile)\n",
    "\n",
    "with open('/Users/enayargrh/Library/Mobile Documents/com~apple~CloudDocs/labo_coding/01_projects/07_cdiscount_streamlit_ml/data/fitted_model_lr_hors_op.pickle','wb') as modelFile:\n",
    "     pickle.dump(lin_reg_hors_op,modelFile)\n",
    "\n",
    "with open('/Users/enayargrh/Library/Mobile Documents/com~apple~CloudDocs/labo_coding/01_projects/07_cdiscount_streamlit_ml/data/fitted_model_gbc_hors_op.pickle','wb') as modelFile:\n",
    "     pickle.dump(model_GBC_Hors_OP,modelFile)"
   ]
  }
 ],
 "metadata": {
  "application/vnd.databricks.v1+notebook": {
   "dashboards": [],
   "environmentMetadata": {
    "base_environment": "",
    "client": "1"
   },
   "language": "python",
   "notebookMetadata": {
    "pythonIndentUnit": 2
   },
   "notebookName": "Hors OP modèle ML cdis gardianboosting",
   "widgets": {}
  },
  "kernelspec": {
   "display_name": ".venv",
   "language": "python",
   "name": "python3"
  },
  "language_info": {
   "codemirror_mode": {
    "name": "ipython",
    "version": 3
   },
   "file_extension": ".py",
   "mimetype": "text/x-python",
   "name": "python",
   "nbconvert_exporter": "python",
   "pygments_lexer": "ipython3",
   "version": "3.11.3"
  }
 },
 "nbformat": 4,
 "nbformat_minor": 0
}
